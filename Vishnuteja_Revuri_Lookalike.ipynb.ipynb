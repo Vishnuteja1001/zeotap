{
 "cells": [
  {
   "cell_type": "code",
   "execution_count": 3,
   "id": "89417ef1-fe0d-4c1b-962b-5c5dfdf30740",
   "metadata": {},
   "outputs": [
    {
     "name": "stdout",
     "output_type": "stream",
     "text": [
      "Lookalike.csv generated successfully!\n"
     ]
    }
   ],
   "source": [
    "# Import necessary libraries\n",
    "import pandas as pd\n",
    "from sklearn.preprocessing import StandardScaler, OneHotEncoder\n",
    "from sklearn.compose import ColumnTransformer\n",
    "from sklearn.metrics.pairwise import cosine_similarity\n",
    "import numpy as np\n",
    "\n",
    "# Loading the datasets\n",
    "customers = pd.read_csv('Customers.csv')\n",
    "products = pd.read_csv('Products.csv')\n",
    "transactions = pd.read_csv('Transactions.csv')\n",
    "\n",
    "# Feature engineering example\n",
    "customer_transactions = transactions.groupby('CustomerID').agg({'TotalValue': 'sum', 'Quantity': 'sum'}).reset_index()\n",
    "customer_data = pd.merge(customers, customer_transactions, on='CustomerID', how='left').fillna(0)\n",
    "\n",
    "# Preprocessing pipeline for numerical and categorical features\n",
    "numerical_features = ['TotalValue', 'Quantity']\n",
    "categorical_features = ['Region']\n",
    "\n",
    "numerical_transformer = StandardScaler()\n",
    "categorical_transformer = OneHotEncoder()\n",
    "\n",
    "preprocessor = ColumnTransformer(\n",
    "    transformers=[\n",
    "        ('num', numerical_transformer, numerical_features),\n",
    "        ('cat', categorical_transformer, categorical_features)\n",
    "    ])\n",
    "\n",
    "# Applying the preprocessing pipeline to the data\n",
    "X = customer_data[numerical_features + categorical_features]\n",
    "X_preprocessed = preprocessor.fit_transform(X)\n",
    "\n",
    "# Calculating similarity\n",
    "similarity_matrix = cosine_similarity(X_preprocessed)\n",
    "\n",
    "# Finding lookalikes\n",
    "def find_lookalikes(customer_id, n=3):\n",
    "    idx = customers[customers['CustomerID'] == customer_id].index[0]\n",
    "    sim_scores = list(enumerate(similarity_matrix[idx]))\n",
    "    sim_scores = sorted(sim_scores, key=lambda x: x[1], reverse=True)\n",
    "    top_n = sim_scores[1:n+1]\n",
    "    return [(customers.iloc[i[0]]['CustomerID'], i[1]) for i in top_n]\n",
    "\n",
    "# Generating Lookalike.csv\n",
    "lookalike_map = {}\n",
    "for cust_id in customers['CustomerID'][:20]:\n",
    "    lookalike_map[cust_id] = find_lookalikes(cust_id)\n",
    "\n",
    "# Flattening the lookalike_map into a list for DataFrame creation\n",
    "lookalike_list = []\n",
    "for cust_id, lookalikes in lookalike_map.items():\n",
    "    entry = [cust_id]\n",
    "    for lookalike in lookalikes:\n",
    "        entry.extend(lookalike)\n",
    "    lookalike_list.append(entry)\n",
    "\n",
    "# Creating a DataFrame with the correct structure\n",
    "lookalike_df = pd.DataFrame(lookalike_list, columns=['CustomerID', 'Lookalike1', 'Score1', 'Lookalike2', 'Score2', 'Lookalike3', 'Score3'])\n",
    "lookalike_df.to_csv('Lookalike.csv', index=False)\n",
    "\n",
    "print(\"Lookalike.csv generated successfully!\")\n"
   ]
  },
  {
   "cell_type": "code",
   "execution_count": null,
   "id": "25c370e9-5aec-46e1-b50d-d26be8c3f531",
   "metadata": {},
   "outputs": [],
   "source": []
  }
 ],
 "metadata": {
  "kernelspec": {
   "display_name": "Python 3 (ipykernel)",
   "language": "python",
   "name": "python3"
  },
  "language_info": {
   "codemirror_mode": {
    "name": "ipython",
    "version": 3
   },
   "file_extension": ".py",
   "mimetype": "text/x-python",
   "name": "python",
   "nbconvert_exporter": "python",
   "pygments_lexer": "ipython3",
   "version": "3.12.7"
  }
 },
 "nbformat": 4,
 "nbformat_minor": 5
}
